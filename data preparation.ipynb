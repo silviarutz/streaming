{
 "cells": [
  {
   "cell_type": "code",
   "execution_count": 66,
   "metadata": {
    "collapsed": true
   },
   "outputs": [],
   "source": [
    "import pandas as pd\n",
    "from feature_engine.encoding import RareLabelEncoder, OneHotEncoder, CountFrequencyEncoder"
   ]
  },
  {
   "cell_type": "code",
   "execution_count": 67,
   "outputs": [
    {
     "name": "stdout",
     "output_type": "stream",
     "text": [
      "Shape of X Train: (1074, 9)\n",
      "Shape of X Test: (4294, 9)\n",
      "Shape of y Train: (4294, 1)\n",
      "Shape of y Test: (1074, 1)\n"
     ]
    }
   ],
   "source": [
    "X_train = pd.read_csv(\"Xtest_tvshows_mod.csv\")\n",
    "X_test = pd.read_csv(\"Xtrain_tvshows_mod.csv\")\n",
    "ytrain = pd.read_csv(\"ytrain_tvshows.csv\")\n",
    "ytest = pd.read_csv(\"ytest_tvshows.csv\")\n",
    "print(\"Shape of X Train: {}\".format(X_train.shape))\n",
    "print(\"Shape of X Test: {}\".format(X_test.shape))\n",
    "print(\"Shape of y Train: {}\".format(ytrain.shape))\n",
    "print(\"Shape of y Test: {}\".format(ytest.shape))"
   ],
   "metadata": {
    "collapsed": false
   }
  },
  {
   "cell_type": "code",
   "execution_count": 68,
   "outputs": [
    {
     "name": "stdout",
     "output_type": "stream",
     "text": [
      "<class 'pandas.core.frame.DataFrame'>\n",
      "RangeIndex: 1074 entries, 0 to 1073\n",
      "Data columns (total 9 columns):\n",
      " #   Column           Non-Null Count  Dtype  \n",
      "---  ------           --------------  -----  \n",
      " 0   Year             1074 non-null   int64  \n",
      " 1   Age              668 non-null    object \n",
      " 2   IMDb             1074 non-null   float64\n",
      " 3   Rotten_Tomatoes  1074 non-null   float64\n",
      " 4   Netflix          1074 non-null   int64  \n",
      " 5   Hulu             1074 non-null   int64  \n",
      " 6   Prime Video      1074 non-null   int64  \n",
      " 7   Disney+          1074 non-null   int64  \n",
      " 8   Age_na           1074 non-null   int64  \n",
      "dtypes: float64(2), int64(6), object(1)\n",
      "memory usage: 75.6+ KB\n"
     ]
    }
   ],
   "source": [
    "X_train.info()"
   ],
   "metadata": {
    "collapsed": false
   }
  },
  {
   "cell_type": "code",
   "execution_count": 69,
   "outputs": [],
   "source": [
    "X_train_cat = X_train.select_dtypes(include=['object'])"
   ],
   "metadata": {
    "collapsed": false
   }
  },
  {
   "cell_type": "code",
   "execution_count": 70,
   "outputs": [
    {
     "name": "stdout",
     "output_type": "stream",
     "text": [
      "Age: 5\n"
     ]
    }
   ],
   "source": [
    "for col in X_train_cat:\n",
    "    cardinality = len(pd.Index(X_train[col].value_counts()))\n",
    "    print(X_train[col].name + \": \" + str(cardinality))"
   ],
   "metadata": {
    "collapsed": false
   }
  },
  {
   "cell_type": "code",
   "execution_count": 92,
   "outputs": [],
   "source": [
    "X_train = X_train.assign(Age_cat=0)"
   ],
   "metadata": {
    "collapsed": false
   }
  },
  {
   "cell_type": "code",
   "execution_count": 93,
   "outputs": [
    {
     "name": "stdout",
     "output_type": "stream",
     "text": [
      "<class 'pandas.core.frame.DataFrame'>\n",
      "RangeIndex: 1074 entries, 0 to 1073\n",
      "Data columns (total 10 columns):\n",
      " #   Column           Non-Null Count  Dtype  \n",
      "---  ------           --------------  -----  \n",
      " 0   Year             1074 non-null   int64  \n",
      " 1   Age              668 non-null    object \n",
      " 2   IMDb             1074 non-null   float64\n",
      " 3   Rotten_Tomatoes  1074 non-null   float64\n",
      " 4   Netflix          1074 non-null   int64  \n",
      " 5   Hulu             1074 non-null   int64  \n",
      " 6   Prime Video      1074 non-null   int64  \n",
      " 7   Disney+          1074 non-null   int64  \n",
      " 8   Age_na           1074 non-null   int64  \n",
      " 9   Age_cat          1074 non-null   int64  \n",
      "dtypes: float64(2), int64(7), object(1)\n",
      "memory usage: 84.0+ KB\n"
     ]
    }
   ],
   "source": [
    "X_train.info()"
   ],
   "metadata": {
    "collapsed": false
   }
  },
  {
   "cell_type": "code",
   "execution_count": 94,
   "outputs": [
    {
     "name": "stdout",
     "output_type": "stream",
     "text": [
      "Year                 int64\n",
      "Age                 object\n",
      "IMDb               float64\n",
      "Rotten_Tomatoes    float64\n",
      "Netflix              int64\n",
      "Hulu                 int64\n",
      "Prime Video          int64\n",
      "Disney+              int64\n",
      "Age_na               int64\n",
      "Age_cat            float64\n",
      "dtype: object\n"
     ]
    }
   ],
   "source": [
    "X_train['Age_cat'] = X_train['Age_cat'].astype(float)\n",
    "print(X_train.dtypes)"
   ],
   "metadata": {
    "collapsed": false
   }
  },
  {
   "cell_type": "code",
   "execution_count": 95,
   "outputs": [
    {
     "name": "stderr",
     "output_type": "stream",
     "text": [
      "/var/folders/6c/psfs6v5j3mngf_5g8cbxk6bw0000gn/T/ipykernel_15558/2344849311.py:6: DeprecationWarning: In a future version, `df.iloc[:, i] = newvals` will attempt to set the values inplace instead of always setting a new array. To retain the old behavior, use either `df[df.columns[i]] = newvals` or, if columns are non-unique, `df.isetitem(i, newvals)`\n",
      "  X_train.loc[:, 'Age_cat'] = 2\n"
     ]
    }
   ],
   "source": [
    "if 'Age' == '13+' or 'Age' == 'all' or 'Age' == '7+':\n",
    "    X_train.loc[:, 'Age_cat'] = 0\n",
    "elif 'Age' == '16+' or 'Age' == '18+':\n",
    "    X_train.loc[:, 'Age_cat'] = 1\n",
    "else:\n",
    "    X_train.loc[:, 'Age_cat'] = 2"
   ],
   "metadata": {
    "collapsed": false
   }
  },
  {
   "cell_type": "code",
   "execution_count": 103,
   "outputs": [
    {
     "data": {
      "text/plain": "   Year  Age  IMDb  Rotten_Tomatoes  Netflix  Hulu  Prime Video  Disney+  \\\n0  2015  NaN   6.8             10.0        0     0            1        0   \n1  2019  16+   8.7             62.0        1     0            0        0   \n2  2017  NaN   6.6             13.0        0     0            1        0   \n3  2015  NaN   8.7             10.0        0     1            0        0   \n4  2018  16+   7.2             62.0        1     0            0        0   \n\n   Age_na  Age_cat  \n0       1        2  \n1       0        2  \n2       1        2  \n3       1        2  \n4       0        2  ",
      "text/html": "<div>\n<style scoped>\n    .dataframe tbody tr th:only-of-type {\n        vertical-align: middle;\n    }\n\n    .dataframe tbody tr th {\n        vertical-align: top;\n    }\n\n    .dataframe thead th {\n        text-align: right;\n    }\n</style>\n<table border=\"1\" class=\"dataframe\">\n  <thead>\n    <tr style=\"text-align: right;\">\n      <th></th>\n      <th>Year</th>\n      <th>Age</th>\n      <th>IMDb</th>\n      <th>Rotten_Tomatoes</th>\n      <th>Netflix</th>\n      <th>Hulu</th>\n      <th>Prime Video</th>\n      <th>Disney+</th>\n      <th>Age_na</th>\n      <th>Age_cat</th>\n    </tr>\n  </thead>\n  <tbody>\n    <tr>\n      <th>0</th>\n      <td>2015</td>\n      <td>NaN</td>\n      <td>6.8</td>\n      <td>10.0</td>\n      <td>0</td>\n      <td>0</td>\n      <td>1</td>\n      <td>0</td>\n      <td>1</td>\n      <td>2</td>\n    </tr>\n    <tr>\n      <th>1</th>\n      <td>2019</td>\n      <td>16+</td>\n      <td>8.7</td>\n      <td>62.0</td>\n      <td>1</td>\n      <td>0</td>\n      <td>0</td>\n      <td>0</td>\n      <td>0</td>\n      <td>2</td>\n    </tr>\n    <tr>\n      <th>2</th>\n      <td>2017</td>\n      <td>NaN</td>\n      <td>6.6</td>\n      <td>13.0</td>\n      <td>0</td>\n      <td>0</td>\n      <td>1</td>\n      <td>0</td>\n      <td>1</td>\n      <td>2</td>\n    </tr>\n    <tr>\n      <th>3</th>\n      <td>2015</td>\n      <td>NaN</td>\n      <td>8.7</td>\n      <td>10.0</td>\n      <td>0</td>\n      <td>1</td>\n      <td>0</td>\n      <td>0</td>\n      <td>1</td>\n      <td>2</td>\n    </tr>\n    <tr>\n      <th>4</th>\n      <td>2018</td>\n      <td>16+</td>\n      <td>7.2</td>\n      <td>62.0</td>\n      <td>1</td>\n      <td>0</td>\n      <td>0</td>\n      <td>0</td>\n      <td>0</td>\n      <td>2</td>\n    </tr>\n  </tbody>\n</table>\n</div>"
     },
     "execution_count": 103,
     "metadata": {},
     "output_type": "execute_result"
    }
   ],
   "source": [
    "X_train.head()"
   ],
   "metadata": {
    "collapsed": false
   }
  },
  {
   "cell_type": "code",
   "execution_count": null,
   "outputs": [],
   "source": [],
   "metadata": {
    "collapsed": false
   }
  }
 ],
 "metadata": {
  "kernelspec": {
   "display_name": "Python 3",
   "language": "python",
   "name": "python3"
  },
  "language_info": {
   "codemirror_mode": {
    "name": "ipython",
    "version": 2
   },
   "file_extension": ".py",
   "mimetype": "text/x-python",
   "name": "python",
   "nbconvert_exporter": "python",
   "pygments_lexer": "ipython2",
   "version": "2.7.6"
  }
 },
 "nbformat": 4,
 "nbformat_minor": 0
}
