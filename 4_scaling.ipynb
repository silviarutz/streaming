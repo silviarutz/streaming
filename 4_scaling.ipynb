{
 "cells": [
  {
   "cell_type": "code",
   "execution_count": 1,
   "metadata": {
    "collapsed": true
   },
   "outputs": [],
   "source": [
    "import pandas as pd\n",
    "import matplotlib.pyplot as plt\n",
    "import numpy as np\n",
    "\n",
    "\n",
    "\n",
    "# the scaler - for min-max scaling\n",
    "from sklearn.preprocessing import StandardScaler\n",
    "from sklearn.preprocessing import MinMaxScaler"
   ]
  },
  {
   "cell_type": "code",
   "execution_count": 9,
   "outputs": [
    {
     "name": "stdout",
     "output_type": "stream",
     "text": [
      "Shape of X Train: (4294, 7)\n",
      "Shape of X Test: (1074, 7)\n"
     ]
    }
   ],
   "source": [
    "X_train = pd.read_csv(\"Xtrain_tvshows_cat.csv\")\n",
    "X_test = pd.read_csv(\"Xtest_tvshows_cat.csv\")\n",
    "\n",
    "print(\"Shape of X Train: {}\".format(X_train.shape))\n",
    "print(\"Shape of X Test: {}\".format(X_test.shape))\n",
    "#print(\"Shape of y Train: {}\".format(ytrain.shape))\n",
    "#print(\"Shape of y Test: {}\".format(ytest.shape))"
   ],
   "metadata": {
    "collapsed": false
   }
  },
  {
   "cell_type": "code",
   "execution_count": 10,
   "outputs": [
    {
     "data": {
      "text/plain": "   Year  IMDb  Rotten_Tomatoes  Netflix  Hulu  Prime Video  Disney+\n0     8   6.2             38.0        0     0            1        0\n1    35   7.0             73.0        0     1            1        0\n2     7   7.2             71.0        1     0            0        0\n3     6   6.8             10.0        0     0            1        0\n4     2   6.0             52.0        0     1            0        0",
      "text/html": "<div>\n<style scoped>\n    .dataframe tbody tr th:only-of-type {\n        vertical-align: middle;\n    }\n\n    .dataframe tbody tr th {\n        vertical-align: top;\n    }\n\n    .dataframe thead th {\n        text-align: right;\n    }\n</style>\n<table border=\"1\" class=\"dataframe\">\n  <thead>\n    <tr style=\"text-align: right;\">\n      <th></th>\n      <th>Year</th>\n      <th>IMDb</th>\n      <th>Rotten_Tomatoes</th>\n      <th>Netflix</th>\n      <th>Hulu</th>\n      <th>Prime Video</th>\n      <th>Disney+</th>\n    </tr>\n  </thead>\n  <tbody>\n    <tr>\n      <th>0</th>\n      <td>8</td>\n      <td>6.2</td>\n      <td>38.0</td>\n      <td>0</td>\n      <td>0</td>\n      <td>1</td>\n      <td>0</td>\n    </tr>\n    <tr>\n      <th>1</th>\n      <td>35</td>\n      <td>7.0</td>\n      <td>73.0</td>\n      <td>0</td>\n      <td>1</td>\n      <td>1</td>\n      <td>0</td>\n    </tr>\n    <tr>\n      <th>2</th>\n      <td>7</td>\n      <td>7.2</td>\n      <td>71.0</td>\n      <td>1</td>\n      <td>0</td>\n      <td>0</td>\n      <td>0</td>\n    </tr>\n    <tr>\n      <th>3</th>\n      <td>6</td>\n      <td>6.8</td>\n      <td>10.0</td>\n      <td>0</td>\n      <td>0</td>\n      <td>1</td>\n      <td>0</td>\n    </tr>\n    <tr>\n      <th>4</th>\n      <td>2</td>\n      <td>6.0</td>\n      <td>52.0</td>\n      <td>0</td>\n      <td>1</td>\n      <td>0</td>\n      <td>0</td>\n    </tr>\n  </tbody>\n</table>\n</div>"
     },
     "execution_count": 10,
     "metadata": {},
     "output_type": "execute_result"
    }
   ],
   "source": [
    "X_train.head()"
   ],
   "metadata": {
    "collapsed": false
   }
  },
  {
   "cell_type": "code",
   "execution_count": 11,
   "outputs": [
    {
     "name": "stdout",
     "output_type": "stream",
     "text": [
      "Shape ausgelesenes Format Train: (4294, 3)\n",
      "Shape ausgelesenes Format Test: (1074, 3)\n"
     ]
    }
   ],
   "source": [
    "X_train_sel = X_train[['Year','IMDb','Rotten_Tomatoes']]\n",
    "X_test_sel = X_test[['Year','IMDb','Rotten_Tomatoes']]\n",
    "\n",
    "print(\"Shape ausgelesenes Format Train: {}\".format(X_train_sel.shape))\n",
    "print(\"Shape ausgelesenes Format Test: {}\".format(X_test_sel.shape))"
   ],
   "metadata": {
    "collapsed": false
   }
  },
  {
   "cell_type": "code",
   "execution_count": 12,
   "outputs": [],
   "source": [
    "# set up the scaler\n",
    "scaler = MinMaxScaler()\n",
    "\n",
    "# fit the scaler to the train set, it will learn the parameters\n",
    "scaler.fit(X_train_sel)\n",
    "\n",
    "# transform train and test sets\n",
    "X_train_scaled = scaler.transform(X_train_sel)\n",
    "X_test_scaled = scaler.transform(X_test_sel)"
   ],
   "metadata": {
    "collapsed": false
   }
  },
  {
   "cell_type": "code",
   "execution_count": 13,
   "outputs": [],
   "source": [
    "X_train_scaled = pd.DataFrame(X_train_scaled, columns=X_train_sel.columns)\n",
    "X_test_scaled = pd.DataFrame(X_test_scaled, columns=X_test_sel.columns)"
   ],
   "metadata": {
    "collapsed": false
   }
  },
  {
   "cell_type": "code",
   "execution_count": 14,
   "outputs": [
    {
     "ename": "NameError",
     "evalue": "name 'sns' is not defined",
     "output_type": "error",
     "traceback": [
      "\u001B[0;31m---------------------------------------------------------------------------\u001B[0m",
      "\u001B[0;31mNameError\u001B[0m                                 Traceback (most recent call last)",
      "Cell \u001B[0;32mIn[14], line 5\u001B[0m\n\u001B[1;32m      3\u001B[0m \u001B[38;5;66;03m# before scaling\u001B[39;00m\n\u001B[1;32m      4\u001B[0m ax1\u001B[38;5;241m.\u001B[39mset_title(\u001B[38;5;124m'\u001B[39m\u001B[38;5;124mBefore Scaling\u001B[39m\u001B[38;5;124m'\u001B[39m)\n\u001B[0;32m----> 5\u001B[0m \u001B[43msns\u001B[49m\u001B[38;5;241m.\u001B[39mkdeplot(X_train_sel[\u001B[38;5;124m'\u001B[39m\u001B[38;5;124mRotten_Tomatoes\u001B[39m\u001B[38;5;124m'\u001B[39m], ax\u001B[38;5;241m=\u001B[39max1)\n\u001B[1;32m      6\u001B[0m sns\u001B[38;5;241m.\u001B[39mkdeplot(X_train_sel[\u001B[38;5;124m'\u001B[39m\u001B[38;5;124mIMDb\u001B[39m\u001B[38;5;124m'\u001B[39m], ax\u001B[38;5;241m=\u001B[39max1)\n\u001B[1;32m      7\u001B[0m ax1\u001B[38;5;241m.\u001B[39mset_xlabel(\u001B[38;5;124m\"\u001B[39m\u001B[38;5;124mGrösse der Variablen\u001B[39m\u001B[38;5;124m\"\u001B[39m)\n",
      "\u001B[0;31mNameError\u001B[0m: name 'sns' is not defined"
     ]
    },
    {
     "data": {
      "text/plain": "<Figure size 1200x500 with 2 Axes>",
      "image/png": "[encoded data removed]"
     },
     "metadata": {},
     "output_type": "display_data"
    }
   ],
   "source": [
    "fig, (ax1, ax2) = plt.subplots(ncols=2, figsize=(12, 5))\n",
    "\n",
    "# before scaling\n",
    "ax1.set_title('Before Scaling')\n",
    "sns.kdeplot(X_train_sel['Rotten_Tomatoes'], ax=ax1)\n",
    "sns.kdeplot(X_train_sel['IMDb'], ax=ax1)\n",
    "ax1.set_xlabel(\"Grösse der Variablen\")\n",
    "\n",
    "# after scaling\n",
    "ax2.set_title('After Standard Scaling')\n",
    "sns.kdeplot(X_train_scaled['Rotten_Tomatoes'], ax=ax2)\n",
    "sns.kdeplot(X_train_scaled['IMDb'], ax=ax2)\n",
    "ax2.set_xlabel(\"Grösse der Variablen\")\n",
    "plt.show()"
   ],
   "metadata": {
    "collapsed": false
   }
  },
  {
   "cell_type": "code",
   "execution_count": null,
   "outputs": [],
   "source": [
    "X_train.drop(['Year','IMDb','Rotten_Tomatoes'], axis = 1, inplace=True)\n",
    "X_test.drop(['Year','IMDb','Rotten_Tomatoes'], axis =1, inplace = True)\n",
    "print(\"Shape of prepared train data set: {}\".format(X_train.shape))\n",
    "print(\"Shape of prepared test data set: {}\".format(X_test.shape))"
   ],
   "metadata": {
    "collapsed": false
   }
  },
  {
   "cell_type": "code",
   "execution_count": 15,
   "outputs": [
    {
     "name": "stdout",
     "output_type": "stream",
     "text": [
      "Shape of prepared train data set: (4294, 10)\n",
      "Shape of prepared test data set: (1074, 10)\n"
     ]
    }
   ],
   "source": [
    "X_train_prep_tot = pd.concat([X_train_scaled, X_train], axis = 1)\n",
    "X_test_prep_tot = pd.concat([X_test_scaled, X_test], axis = 1)\n",
    "print(\"Shape of prepared train data set: {}\".format(X_train_prep_tot.shape))\n",
    "print(\"Shape of prepared test data set: {}\".format(X_test_prep_tot.shape))"
   ],
   "metadata": {
    "collapsed": false
   }
  },
  {
   "cell_type": "code",
   "execution_count": 16,
   "outputs": [
    {
     "data": {
      "text/plain": "       Year      IMDb  Rotten_Tomatoes  Year  IMDb  Rotten_Tomatoes  Netflix  \\\n0  0.051282  0.600000         0.311111     8   6.2             38.0        0   \n1  0.282051  0.694118         0.700000    35   7.0             73.0        0   \n2  0.042735  0.717647         0.677778     7   7.2             71.0        1   \n3  0.034188  0.670588         0.000000     6   6.8             10.0        0   \n4  0.000000  0.576471         0.466667     2   6.0             52.0        0   \n\n   Hulu  Prime Video  Disney+  \n0     0            1        0  \n1     1            1        0  \n2     0            0        0  \n3     0            1        0  \n4     1            0        0  ",
      "text/html": "<div>\n<style scoped>\n    .dataframe tbody tr th:only-of-type {\n        vertical-align: middle;\n    }\n\n    .dataframe tbody tr th {\n        vertical-align: top;\n    }\n\n    .dataframe thead th {\n        text-align: right;\n    }\n</style>\n<table border=\"1\" class=\"dataframe\">\n  <thead>\n    <tr style=\"text-align: right;\">\n      <th></th>\n      <th>Year</th>\n      <th>IMDb</th>\n      <th>Rotten_Tomatoes</th>\n      <th>Year</th>\n      <th>IMDb</th>\n      <th>Rotten_Tomatoes</th>\n      <th>Netflix</th>\n      <th>Hulu</th>\n      <th>Prime Video</th>\n      <th>Disney+</th>\n    </tr>\n  </thead>\n  <tbody>\n    <tr>\n      <th>0</th>\n      <td>0.051282</td>\n      <td>0.600000</td>\n      <td>0.311111</td>\n      <td>8</td>\n      <td>6.2</td>\n      <td>38.0</td>\n      <td>0</td>\n      <td>0</td>\n      <td>1</td>\n      <td>0</td>\n    </tr>\n    <tr>\n      <th>1</th>\n      <td>0.282051</td>\n      <td>0.694118</td>\n      <td>0.700000</td>\n      <td>35</td>\n      <td>7.0</td>\n      <td>73.0</td>\n      <td>0</td>\n      <td>1</td>\n      <td>1</td>\n      <td>0</td>\n    </tr>\n    <tr>\n      <th>2</th>\n      <td>0.042735</td>\n      <td>0.717647</td>\n      <td>0.677778</td>\n      <td>7</td>\n      <td>7.2</td>\n      <td>71.0</td>\n      <td>1</td>\n      <td>0</td>\n      <td>0</td>\n      <td>0</td>\n    </tr>\n    <tr>\n      <th>3</th>\n      <td>0.034188</td>\n      <td>0.670588</td>\n      <td>0.000000</td>\n      <td>6</td>\n      <td>6.8</td>\n      <td>10.0</td>\n      <td>0</td>\n      <td>0</td>\n      <td>1</td>\n      <td>0</td>\n    </tr>\n    <tr>\n      <th>4</th>\n      <td>0.000000</td>\n      <td>0.576471</td>\n      <td>0.466667</td>\n      <td>2</td>\n      <td>6.0</td>\n      <td>52.0</td>\n      <td>0</td>\n      <td>1</td>\n      <td>0</td>\n      <td>0</td>\n    </tr>\n  </tbody>\n</table>\n</div>"
     },
     "execution_count": 16,
     "metadata": {},
     "output_type": "execute_result"
    }
   ],
   "source": [
    "X_train_prep_tot.head()"
   ],
   "metadata": {
    "collapsed": false
   }
  },
  {
   "cell_type": "code",
   "execution_count": 17,
   "outputs": [],
   "source": [
    "X_train_prep_tot.to_csv(\"Xtrain_tvshows_scaled.csv\",index=False)\n",
    "X_test_prep_tot.to_csv(\"Xtest_tvshows_scaled.csv\",index=False)"
   ],
   "metadata": {
    "collapsed": false
   }
  },
  {
   "cell_type": "code",
   "execution_count": 58,
   "outputs": [],
   "source": [],
   "metadata": {
    "collapsed": false
   }
  }
 ],
 "metadata": {
  "kernelspec": {
   "display_name": "Python 3",
   "language": "python",
   "name": "python3"
  },
  "language_info": {
   "codemirror_mode": {
    "name": "ipython",
    "version": 2
   },
   "file_extension": ".py",
   "mimetype": "text/x-python",
   "name": "python",
   "nbconvert_exporter": "python",
   "pygments_lexer": "ipython2",
   "version": "2.7.6"
  }
 },
 "nbformat": 4,
 "nbformat_minor": 0
}
