{
 "cells": [
  {
   "cell_type": "code",
   "execution_count": 53,
   "metadata": {
    "collapsed": true
   },
   "outputs": [],
   "source": [
    "import pandas as pd\n",
    "from feature_engine.encoding import RareLabelEncoder, OneHotEncoder, CountFrequencyEncoder"
   ]
  },
  {
   "cell_type": "code",
   "execution_count": 54,
   "outputs": [
    {
     "name": "stdout",
     "output_type": "stream",
     "text": [
      "Shape of X Train: (1074, 7)\n",
      "Shape of X Test: (4294, 7)\n",
      "Shape of y Train: (4294, 1)\n",
      "Shape of y Test: (1074, 1)\n"
     ]
    }
   ],
   "source": [
    "X_train = pd.read_csv(\"Xtest_tvshows_mod.csv\")\n",
    "X_test = pd.read_csv(\"Xtrain_tvshows_mod.csv\")\n",
    "ytrain = pd.read_csv(\"ytrain_tvshows.csv\")\n",
    "ytest = pd.read_csv(\"ytest_tvshows.csv\")\n",
    "print(\"Shape of X Train: {}\".format(X_train.shape))\n",
    "print(\"Shape of X Test: {}\".format(X_test.shape))\n",
    "print(\"Shape of y Train: {}\".format(ytrain.shape))\n",
    "print(\"Shape of y Test: {}\".format(ytest.shape))"
   ],
   "metadata": {
    "collapsed": false
   }
  },
  {
   "cell_type": "code",
   "execution_count": 55,
   "outputs": [
    {
     "name": "stdout",
     "output_type": "stream",
     "text": [
      "<class 'pandas.core.frame.DataFrame'>\n",
      "RangeIndex: 1074 entries, 0 to 1073\n",
      "Data columns (total 7 columns):\n",
      " #   Column           Non-Null Count  Dtype  \n",
      "---  ------           --------------  -----  \n",
      " 0   Year             1074 non-null   int64  \n",
      " 1   IMDb             1074 non-null   float64\n",
      " 2   Rotten_Tomatoes  1074 non-null   float64\n",
      " 3   Netflix          1074 non-null   int64  \n",
      " 4   Hulu             1074 non-null   int64  \n",
      " 5   Prime Video      1074 non-null   int64  \n",
      " 6   Disney+          1074 non-null   int64  \n",
      "dtypes: float64(2), int64(5)\n",
      "memory usage: 58.9 KB\n"
     ]
    }
   ],
   "source": [
    "X_train.info()"
   ],
   "metadata": {
    "collapsed": false
   }
  },
  {
   "cell_type": "code",
   "execution_count": 56,
   "outputs": [],
   "source": [
    "X_train_cat = X_train.select_dtypes(include=['object'])"
   ],
   "metadata": {
    "collapsed": false
   }
  },
  {
   "cell_type": "code",
   "execution_count": 57,
   "outputs": [],
   "source": [
    "for col in X_train_cat:\n",
    "    cardinality = len(pd.Index(X_train[col].value_counts()))\n",
    "    print(X_train[col].name + \": \" + str(cardinality))"
   ],
   "metadata": {
    "collapsed": false
   }
  },
  {
   "cell_type": "code",
   "execution_count": 58,
   "outputs": [
    {
     "name": "stdout",
     "output_type": "stream",
     "text": [
      "<class 'pandas.core.frame.DataFrame'>\n",
      "RangeIndex: 1074 entries, 0 to 1073\n",
      "Data columns (total 7 columns):\n",
      " #   Column           Non-Null Count  Dtype  \n",
      "---  ------           --------------  -----  \n",
      " 0   Year             1074 non-null   int64  \n",
      " 1   IMDb             1074 non-null   float64\n",
      " 2   Rotten_Tomatoes  1074 non-null   float64\n",
      " 3   Netflix          1074 non-null   int64  \n",
      " 4   Hulu             1074 non-null   int64  \n",
      " 5   Prime Video      1074 non-null   int64  \n",
      " 6   Disney+          1074 non-null   int64  \n",
      "dtypes: float64(2), int64(5)\n",
      "memory usage: 58.9 KB\n"
     ]
    }
   ],
   "source": [
    "X_train.info()"
   ],
   "metadata": {
    "collapsed": false
   }
  },
  {
   "cell_type": "code",
   "execution_count": 59,
   "outputs": [],
   "source": [
    "X_train['Year'] = 2023 - X_train['Year']\n",
    "X_test['Year'] = 2023 - X_test['Year']"
   ],
   "metadata": {
    "collapsed": false
   }
  },
  {
   "cell_type": "code",
   "execution_count": 60,
   "outputs": [
    {
     "data": {
      "text/plain": "   Year  IMDb  Rotten_Tomatoes  Netflix  Hulu  Prime Video  Disney+\n0     8   6.8             10.0        0     0            1        0\n1     4   8.7             62.0        1     0            0        0\n2     6   6.6             13.0        0     0            1        0\n3     8   8.7             10.0        0     1            0        0\n4     5   7.2             62.0        1     0            0        0",
      "text/html": "<div>\n<style scoped>\n    .dataframe tbody tr th:only-of-type {\n        vertical-align: middle;\n    }\n\n    .dataframe tbody tr th {\n        vertical-align: top;\n    }\n\n    .dataframe thead th {\n        text-align: right;\n    }\n</style>\n<table border=\"1\" class=\"dataframe\">\n  <thead>\n    <tr style=\"text-align: right;\">\n      <th></th>\n      <th>Year</th>\n      <th>IMDb</th>\n      <th>Rotten_Tomatoes</th>\n      <th>Netflix</th>\n      <th>Hulu</th>\n      <th>Prime Video</th>\n      <th>Disney+</th>\n    </tr>\n  </thead>\n  <tbody>\n    <tr>\n      <th>0</th>\n      <td>8</td>\n      <td>6.8</td>\n      <td>10.0</td>\n      <td>0</td>\n      <td>0</td>\n      <td>1</td>\n      <td>0</td>\n    </tr>\n    <tr>\n      <th>1</th>\n      <td>4</td>\n      <td>8.7</td>\n      <td>62.0</td>\n      <td>1</td>\n      <td>0</td>\n      <td>0</td>\n      <td>0</td>\n    </tr>\n    <tr>\n      <th>2</th>\n      <td>6</td>\n      <td>6.6</td>\n      <td>13.0</td>\n      <td>0</td>\n      <td>0</td>\n      <td>1</td>\n      <td>0</td>\n    </tr>\n    <tr>\n      <th>3</th>\n      <td>8</td>\n      <td>8.7</td>\n      <td>10.0</td>\n      <td>0</td>\n      <td>1</td>\n      <td>0</td>\n      <td>0</td>\n    </tr>\n    <tr>\n      <th>4</th>\n      <td>5</td>\n      <td>7.2</td>\n      <td>62.0</td>\n      <td>1</td>\n      <td>0</td>\n      <td>0</td>\n      <td>0</td>\n    </tr>\n  </tbody>\n</table>\n</div>"
     },
     "execution_count": 60,
     "metadata": {},
     "output_type": "execute_result"
    }
   ],
   "source": [
    "X_train.head()"
   ],
   "metadata": {
    "collapsed": false
   }
  },
  {
   "cell_type": "code",
   "execution_count": 61,
   "outputs": [],
   "source": [
    "X_train.to_csv(\"Xtrain_tvshows_cat.csv\",index=False)\n",
    "X_test.to_csv(\"Xtest_tvshows_cat.csv\",index=False)"
   ],
   "metadata": {
    "collapsed": false
   }
  },
  {
   "cell_type": "code",
   "execution_count": 52,
   "outputs": [],
   "source": [],
   "metadata": {
    "collapsed": false
   }
  },
  {
   "cell_type": "code",
   "execution_count": null,
   "outputs": [],
   "source": [],
   "metadata": {
    "collapsed": false
   }
  }
 ],
 "metadata": {
  "kernelspec": {
   "display_name": "Python 3",
   "language": "python",
   "name": "python3"
  },
  "language_info": {
   "codemirror_mode": {
    "name": "ipython",
    "version": 2
   },
   "file_extension": ".py",
   "mimetype": "text/x-python",
   "name": "python",
   "nbconvert_exporter": "python",
   "pygments_lexer": "ipython2",
   "version": "2.7.6"
  }
 },
 "nbformat": 4,
 "nbformat_minor": 0
}
